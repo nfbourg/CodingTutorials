{
 "cells": [
  {
   "cell_type": "markdown",
   "id": "0b66cec9-1868-449f-9689-3a94fe244cc6",
   "metadata": {},
   "source": [
    "# Nate's guide to speeding up dfs in floops!"
   ]
  },
  {
   "cell_type": "markdown",
   "id": "607dc8a4-bbca-45de-90b7-e4f9f23397cc",
   "metadata": {},
   "source": [
    "For this tutorial, there is a relatively small df, but the computation time still demonstrates the magnitude between the different methods can make.  \n",
    "\n",
    "You can use the Python37 env. "
   ]
  },
  {
   "cell_type": "code",
   "execution_count": 1,
   "id": "6f667aac-4acb-4c22-8f8e-cf8a6a96e4b6",
   "metadata": {},
   "outputs": [],
   "source": [
    "import os, sys\n",
    "from os.path import join, exists, basename, splitext, dirname\n",
    "import pandas as pd    "
   ]
  },
  {
   "cell_type": "code",
   "execution_count": 2,
   "id": "3fd497c8-8203-4043-bd16-a8932a743715",
   "metadata": {},
   "outputs": [],
   "source": [
    "test_file = '/home/svc_jupyter/tutorials/data/speedup_testdata.txt'\n",
    "\n",
    "df = pd.read_csv(test_file, names = [\"ReadID\", \"Length\", \"Positions\", \"String\"], sep = \"\\t\")"
   ]
  },
  {
   "cell_type": "markdown",
   "id": "fffa2c83-3adf-4a1a-9fc1-21bdfc9c5057",
   "metadata": {},
   "source": [
    "# Using df.iterrows is slow"
   ]
  },
  {
   "cell_type": "code",
   "execution_count": 4,
   "id": "a12cb4c5-1dbb-4349-981f-a93ef254bced",
   "metadata": {},
   "outputs": [
    {
     "name": "stdout",
     "output_type": "stream",
     "text": [
      "CPU times: user 32.9 s, sys: 93.7 ms, total: 33 s\n",
      "Wall time: 33.1 s\n"
     ]
    },
    {
     "data": {
      "text/html": [
       "<div>\n",
       "<style scoped>\n",
       "    .dataframe tbody tr th:only-of-type {\n",
       "        vertical-align: middle;\n",
       "    }\n",
       "\n",
       "    .dataframe tbody tr th {\n",
       "        vertical-align: top;\n",
       "    }\n",
       "\n",
       "    .dataframe thead th {\n",
       "        text-align: right;\n",
       "    }\n",
       "</style>\n",
       "<table border=\"1\" class=\"dataframe\">\n",
       "  <thead>\n",
       "    <tr style=\"text-align: right;\">\n",
       "      <th></th>\n",
       "      <th>Orientation</th>\n",
       "      <th>Pos</th>\n",
       "      <th>Units</th>\n",
       "    </tr>\n",
       "  </thead>\n",
       "  <tbody>\n",
       "    <tr>\n",
       "      <th>0</th>\n",
       "      <td>-</td>\n",
       "      <td>3462-3685</td>\n",
       "      <td>1</td>\n",
       "    </tr>\n",
       "    <tr>\n",
       "      <th>1</th>\n",
       "      <td></td>\n",
       "      <td></td>\n",
       "      <td>0</td>\n",
       "    </tr>\n",
       "    <tr>\n",
       "      <th>2</th>\n",
       "      <td>-</td>\n",
       "      <td>1104-1353</td>\n",
       "      <td>1</td>\n",
       "    </tr>\n",
       "    <tr>\n",
       "      <th>3</th>\n",
       "      <td>+</td>\n",
       "      <td>59-311</td>\n",
       "      <td>1</td>\n",
       "    </tr>\n",
       "    <tr>\n",
       "      <th>4</th>\n",
       "      <td>+</td>\n",
       "      <td>2766-3021</td>\n",
       "      <td>1</td>\n",
       "    </tr>\n",
       "  </tbody>\n",
       "</table>\n",
       "</div>"
      ],
      "text/plain": [
       "  Orientation        Pos  Units\n",
       "0           -  3462-3685      1\n",
       "1                             0\n",
       "2           -  1104-1353      1\n",
       "3           +     59-311      1\n",
       "4           +  2766-3021      1"
      ]
     },
     "execution_count": 4,
     "metadata": {},
     "output_type": "execute_result"
    }
   ],
   "source": [
    "%%time\n",
    "\n",
    "all_poses =  list()\n",
    "all_bc_orients =  list()\n",
    "units = list()\n",
    "\n",
    "# ---------------------------------------------------------------------#\n",
    "for index, row in df.iterrows(): # <------ This is where the issue lies. \n",
    "# ---------------------------------------------------------------------#\n",
    "\n",
    "    motif_line = row['String']\n",
    "    pos_line = row['Positions']\n",
    "    \n",
    "    motifs = motif_line.split(\":\")\n",
    "    poses = pos_line.split(\":\")\n",
    "    \n",
    "    bc_orients = list() \n",
    "    bc_poses = list()\n",
    "    \n",
    "\n",
    "    for i in range(len(motifs)):\n",
    "        motif = motifs[i]\n",
    "        \n",
    "        if motif in ['-BC_SV40','+BC_SV40']:\n",
    "        \n",
    "            bc_orient = motif[0]\n",
    "            bc_orients.append(bc_orient)\n",
    "        \n",
    "            pos = poses[i]\n",
    "            bc_poses.append(pos)\n",
    "        else:\n",
    "            continue\n",
    "        \n",
    "    all_bc_orients.append(':'.join(bc_orients))\n",
    "    all_poses.append(':'.join(bc_poses))\n",
    "    \n",
    "    num_unit = len(bc_orients)\n",
    "    units.append(num_unit)\n",
    "\n",
    "new_data = [all_poses,all_bc_orients,units]\n",
    "new_data_df = pd.DataFrame(data={'Orientation':all_bc_orients,'Pos':all_poses,'Units':units})\n",
    "new_data_df.head()"
   ]
  },
  {
   "cell_type": "markdown",
   "id": "8f1eddf2-af8d-447c-b439-3f3a3cace80d",
   "metadata": {},
   "source": [
    "## first let's functionalize the inside loop"
   ]
  },
  {
   "cell_type": "markdown",
   "id": "e1332c14-92fa-4032-b6d7-1062bf14ece5",
   "metadata": {},
   "source": [
    "both below functions have similar performance, use what is most intuitive"
   ]
  },
  {
   "cell_type": "markdown",
   "id": "e69f7afc-ddbc-4557-b04c-832ade28a397",
   "metadata": {},
   "source": [
    "my preference: list comprehension"
   ]
  },
  {
   "cell_type": "code",
   "execution_count": 5,
   "id": "381ec1a4-6615-4cc4-b090-a8a4d863ad72",
   "metadata": {},
   "outputs": [],
   "source": [
    "def process_barcodes_lc(motif_line, pos_line):\n",
    "    motifs = motif_line.split(\":\")\n",
    "    poses = pos_line.split(\":\")\n",
    "    bc_and_pos = [(motif,pos) for motif, pos in zip(motifs,poses) if motif in ['-BC_SV40','+BC_SV40']]\n",
    "    bc_orient = ':'.join([motif[0] for (motif,pos) in bc_and_pos])\n",
    "    bc_pos = ':'.join([pos for (motif,pos) in bc_and_pos])\n",
    "    units = len(bc_and_pos)\n",
    "    return([bc_orient,bc_pos,units])"
   ]
  },
  {
   "cell_type": "markdown",
   "id": "bf4ea272-5f54-4134-861d-0702f22dfbc1",
   "metadata": {},
   "source": [
    "copy/paste of foor loop"
   ]
  },
  {
   "cell_type": "code",
   "execution_count": 6,
   "id": "d22b6126-94d3-4843-a708-0655da0a6695",
   "metadata": {},
   "outputs": [],
   "source": [
    "def process_barcodes_floop(motif_line, pos_line):\n",
    "    motifs = motif_line.split(\":\")\n",
    "    poses = pos_line.split(\":\")\n",
    "    \n",
    "    bc_orients = list() \n",
    "    bc_poses = list()\n",
    "    \n",
    "    for i in range(len(motifs)):\n",
    "        motif = motifs[i]\n",
    "        \n",
    "        if motif in ['-BC_SV40','+BC_SV40']:\n",
    "            bc_orient = motif[0]\n",
    "            bc_orients.append(bc_orient)\n",
    "            \n",
    "            pos = poses[i]\n",
    "            bc_poses.append(pos)\n",
    "        else:\n",
    "            continue\n",
    "    num_unit = len(bc_orients)\n",
    "    bc_orients = ':'.join(bc_orients)\n",
    "    bc_poses = ':'.join(bc_poses)\n",
    "    return([bc_orients,bc_poses,num_unit])"
   ]
  },
  {
   "cell_type": "markdown",
   "id": "43e089f2-9b9e-4cf5-832a-bb204ced01e3",
   "metadata": {
    "tags": []
   },
   "source": [
    "### demonstartion of list comprehension function"
   ]
  },
  {
   "cell_type": "code",
   "execution_count": 7,
   "id": "efbc6214-c8c1-4cc9-aa10-dda6dbff7a96",
   "metadata": {},
   "outputs": [
    {
     "name": "stdout",
     "output_type": "stream",
     "text": [
      "CPU times: user 30 s, sys: 90 ms, total: 30.1 s\n",
      "Wall time: 30.2 s\n"
     ]
    },
    {
     "data": {
      "text/html": [
       "<div>\n",
       "<style scoped>\n",
       "    .dataframe tbody tr th:only-of-type {\n",
       "        vertical-align: middle;\n",
       "    }\n",
       "\n",
       "    .dataframe tbody tr th {\n",
       "        vertical-align: top;\n",
       "    }\n",
       "\n",
       "    .dataframe thead th {\n",
       "        text-align: right;\n",
       "    }\n",
       "</style>\n",
       "<table border=\"1\" class=\"dataframe\">\n",
       "  <thead>\n",
       "    <tr style=\"text-align: right;\">\n",
       "      <th></th>\n",
       "      <th>Orientation</th>\n",
       "      <th>Pos</th>\n",
       "      <th>Units</th>\n",
       "    </tr>\n",
       "  </thead>\n",
       "  <tbody>\n",
       "    <tr>\n",
       "      <th>0</th>\n",
       "      <td>-</td>\n",
       "      <td>3462-3685</td>\n",
       "      <td>1</td>\n",
       "    </tr>\n",
       "    <tr>\n",
       "      <th>1</th>\n",
       "      <td></td>\n",
       "      <td></td>\n",
       "      <td>0</td>\n",
       "    </tr>\n",
       "    <tr>\n",
       "      <th>2</th>\n",
       "      <td>-</td>\n",
       "      <td>1104-1353</td>\n",
       "      <td>1</td>\n",
       "    </tr>\n",
       "    <tr>\n",
       "      <th>3</th>\n",
       "      <td>+</td>\n",
       "      <td>59-311</td>\n",
       "      <td>1</td>\n",
       "    </tr>\n",
       "    <tr>\n",
       "      <th>4</th>\n",
       "      <td>+</td>\n",
       "      <td>2766-3021</td>\n",
       "      <td>1</td>\n",
       "    </tr>\n",
       "  </tbody>\n",
       "</table>\n",
       "</div>"
      ],
      "text/plain": [
       "  Orientation        Pos  Units\n",
       "0           -  3462-3685      1\n",
       "1                             0\n",
       "2           -  1104-1353      1\n",
       "3           +     59-311      1\n",
       "4           +  2766-3021      1"
      ]
     },
     "execution_count": 7,
     "metadata": {},
     "output_type": "execute_result"
    }
   ],
   "source": [
    "%%time\n",
    "\n",
    "all_poses =  list()\n",
    "all_bc_orients =  list()\n",
    "units = list()\n",
    "\n",
    "for index, row in df.iterrows():\n",
    "\n",
    "    motif_line = row['String']\n",
    "    pos_line = row['Positions']\n",
    "    \n",
    "    bc_orients, bc_poses, num_unit = process_barcodes_lc(motif_line, pos_line)\n",
    "        \n",
    "    all_bc_orients.append(bc_orients)\n",
    "    all_poses.append(bc_poses)\n",
    "    \n",
    "    units.append(num_unit)\n",
    "\n",
    "new_data = [all_poses,all_bc_orients,units]\n",
    "new_data_df = pd.DataFrame(data={'Orientation':all_bc_orients,'Pos':all_poses,'Units':units})\n",
    "new_data_df.head()"
   ]
  },
  {
   "cell_type": "markdown",
   "id": "000d739b-6986-49e9-aff9-68c8f64beed9",
   "metadata": {
    "tags": []
   },
   "source": [
    "### demonstartion of for loop function"
   ]
  },
  {
   "cell_type": "code",
   "execution_count": 8,
   "id": "e2d83a2c-de90-4b82-b0a0-7f9421f62c9c",
   "metadata": {},
   "outputs": [
    {
     "name": "stdout",
     "output_type": "stream",
     "text": [
      "CPU times: user 32 s, sys: 82.2 ms, total: 32 s\n",
      "Wall time: 32.1 s\n"
     ]
    },
    {
     "data": {
      "text/html": [
       "<div>\n",
       "<style scoped>\n",
       "    .dataframe tbody tr th:only-of-type {\n",
       "        vertical-align: middle;\n",
       "    }\n",
       "\n",
       "    .dataframe tbody tr th {\n",
       "        vertical-align: top;\n",
       "    }\n",
       "\n",
       "    .dataframe thead th {\n",
       "        text-align: right;\n",
       "    }\n",
       "</style>\n",
       "<table border=\"1\" class=\"dataframe\">\n",
       "  <thead>\n",
       "    <tr style=\"text-align: right;\">\n",
       "      <th></th>\n",
       "      <th>Orientation</th>\n",
       "      <th>Pos</th>\n",
       "      <th>Units</th>\n",
       "    </tr>\n",
       "  </thead>\n",
       "  <tbody>\n",
       "    <tr>\n",
       "      <th>0</th>\n",
       "      <td>-</td>\n",
       "      <td>3462-3685</td>\n",
       "      <td>1</td>\n",
       "    </tr>\n",
       "    <tr>\n",
       "      <th>1</th>\n",
       "      <td></td>\n",
       "      <td></td>\n",
       "      <td>0</td>\n",
       "    </tr>\n",
       "    <tr>\n",
       "      <th>2</th>\n",
       "      <td>-</td>\n",
       "      <td>1104-1353</td>\n",
       "      <td>1</td>\n",
       "    </tr>\n",
       "    <tr>\n",
       "      <th>3</th>\n",
       "      <td>+</td>\n",
       "      <td>59-311</td>\n",
       "      <td>1</td>\n",
       "    </tr>\n",
       "    <tr>\n",
       "      <th>4</th>\n",
       "      <td>+</td>\n",
       "      <td>2766-3021</td>\n",
       "      <td>1</td>\n",
       "    </tr>\n",
       "  </tbody>\n",
       "</table>\n",
       "</div>"
      ],
      "text/plain": [
       "  Orientation        Pos  Units\n",
       "0           -  3462-3685      1\n",
       "1                             0\n",
       "2           -  1104-1353      1\n",
       "3           +     59-311      1\n",
       "4           +  2766-3021      1"
      ]
     },
     "execution_count": 8,
     "metadata": {},
     "output_type": "execute_result"
    }
   ],
   "source": [
    "%%time\n",
    "\n",
    "all_poses =  list()\n",
    "all_bc_orients =  list()\n",
    "units = list()\n",
    "\n",
    "for index, row in df.iterrows():\n",
    "\n",
    "    motif_line = row['String']\n",
    "    pos_line = row['Positions']\n",
    "    \n",
    "    bc_orients, bc_poses, num_unit = process_barcodes_floop(motif_line, pos_line)\n",
    "        \n",
    "    all_bc_orients.append(bc_orients)\n",
    "    all_poses.append(bc_poses)\n",
    "    \n",
    "    units.append(num_unit)\n",
    "    \n",
    "new_data = [all_poses,all_bc_orients,units]\n",
    "new_data_df = pd.DataFrame(data={'Orientation':all_bc_orients,'Pos':all_poses,'Units':units})\n",
    "new_data_df.head()"
   ]
  },
  {
   "cell_type": "markdown",
   "id": "dbe5e36a-7f0f-4073-b5d2-dae6d4027376",
   "metadata": {},
   "source": [
    "**no speedup yet...**"
   ]
  },
  {
   "cell_type": "markdown",
   "id": "572705a6-f7b3-435c-8caa-a52ba444c64a",
   "metadata": {},
   "source": [
    "## Alternative 1 to df.iterrows: df.apply"
   ]
  },
  {
   "cell_type": "markdown",
   "id": "cc826512-3975-4156-b72d-6407c64f49db",
   "metadata": {},
   "source": [
    "### Using the apply function and expanding to df"
   ]
  },
  {
   "cell_type": "code",
   "execution_count": 14,
   "id": "c458ed5e-af6f-4d46-ba43-7c6966d62795",
   "metadata": {},
   "outputs": [
    {
     "name": "stdout",
     "output_type": "stream",
     "text": [
      "CPU times: user 53.7 s, sys: 241 ms, total: 54 s\n",
      "Wall time: 54.1 s\n"
     ]
    },
    {
     "data": {
      "text/html": [
       "<div>\n",
       "<style scoped>\n",
       "    .dataframe tbody tr th:only-of-type {\n",
       "        vertical-align: middle;\n",
       "    }\n",
       "\n",
       "    .dataframe tbody tr th {\n",
       "        vertical-align: top;\n",
       "    }\n",
       "\n",
       "    .dataframe thead th {\n",
       "        text-align: right;\n",
       "    }\n",
       "</style>\n",
       "<table border=\"1\" class=\"dataframe\">\n",
       "  <thead>\n",
       "    <tr style=\"text-align: right;\">\n",
       "      <th></th>\n",
       "      <th>0</th>\n",
       "      <th>1</th>\n",
       "      <th>2</th>\n",
       "    </tr>\n",
       "  </thead>\n",
       "  <tbody>\n",
       "    <tr>\n",
       "      <th>0</th>\n",
       "      <td>-</td>\n",
       "      <td>3462-3685</td>\n",
       "      <td>1</td>\n",
       "    </tr>\n",
       "    <tr>\n",
       "      <th>1</th>\n",
       "      <td></td>\n",
       "      <td></td>\n",
       "      <td>0</td>\n",
       "    </tr>\n",
       "    <tr>\n",
       "      <th>2</th>\n",
       "      <td>-</td>\n",
       "      <td>1104-1353</td>\n",
       "      <td>1</td>\n",
       "    </tr>\n",
       "    <tr>\n",
       "      <th>3</th>\n",
       "      <td>+</td>\n",
       "      <td>59-311</td>\n",
       "      <td>1</td>\n",
       "    </tr>\n",
       "    <tr>\n",
       "      <th>4</th>\n",
       "      <td>+</td>\n",
       "      <td>2766-3021</td>\n",
       "      <td>1</td>\n",
       "    </tr>\n",
       "  </tbody>\n",
       "</table>\n",
       "</div>"
      ],
      "text/plain": [
       "   0          1  2\n",
       "0  -  3462-3685  1\n",
       "1                0\n",
       "2  -  1104-1353  1\n",
       "3  +     59-311  1\n",
       "4  +  2766-3021  1"
      ]
     },
     "execution_count": 14,
     "metadata": {},
     "output_type": "execute_result"
    }
   ],
   "source": [
    "%%time\n",
    "# ---------- DO NOT USE EXPAND ---------------- #\n",
    "new_data_df = df.apply(lambda x: process_barcodes_lc(x['String'],x['Positions']), axis=1, result_type='expand')\n",
    "\n",
    "new_data_df.head()\n",
    "# ---------- DO NOT USE EXPAND ---------------- #"
   ]
  },
  {
   "cell_type": "markdown",
   "id": "bb8d3531-7868-49a8-b353-2e2876e141ad",
   "metadata": {},
   "source": [
    "Using the **expand** function on a large df is **VERY** time consuming !!!! Worse than the original for loop !!!!"
   ]
  },
  {
   "cell_type": "markdown",
   "id": "61aed455-851f-47ee-9811-a920ff68da47",
   "metadata": {},
   "source": [
    "### faster: Using the apply function but reconstructing the dataframe"
   ]
  },
  {
   "cell_type": "code",
   "execution_count": 10,
   "id": "4976e006-fc32-4b70-963c-e2675a20ef9f",
   "metadata": {
    "tags": []
   },
   "outputs": [
    {
     "name": "stdout",
     "output_type": "stream",
     "text": [
      "CPU times: user 8.96 s, sys: 31.8 ms, total: 9 s\n",
      "Wall time: 9.01 s\n"
     ]
    },
    {
     "data": {
      "text/html": [
       "<div>\n",
       "<style scoped>\n",
       "    .dataframe tbody tr th:only-of-type {\n",
       "        vertical-align: middle;\n",
       "    }\n",
       "\n",
       "    .dataframe tbody tr th {\n",
       "        vertical-align: top;\n",
       "    }\n",
       "\n",
       "    .dataframe thead th {\n",
       "        text-align: right;\n",
       "    }\n",
       "</style>\n",
       "<table border=\"1\" class=\"dataframe\">\n",
       "  <thead>\n",
       "    <tr style=\"text-align: right;\">\n",
       "      <th></th>\n",
       "      <th>Orientation</th>\n",
       "      <th>Pos</th>\n",
       "      <th>Units</th>\n",
       "    </tr>\n",
       "  </thead>\n",
       "  <tbody>\n",
       "    <tr>\n",
       "      <th>0</th>\n",
       "      <td>-</td>\n",
       "      <td>3462-3685</td>\n",
       "      <td>1</td>\n",
       "    </tr>\n",
       "    <tr>\n",
       "      <th>1</th>\n",
       "      <td></td>\n",
       "      <td></td>\n",
       "      <td>0</td>\n",
       "    </tr>\n",
       "    <tr>\n",
       "      <th>2</th>\n",
       "      <td>-</td>\n",
       "      <td>1104-1353</td>\n",
       "      <td>1</td>\n",
       "    </tr>\n",
       "    <tr>\n",
       "      <th>3</th>\n",
       "      <td>+</td>\n",
       "      <td>59-311</td>\n",
       "      <td>1</td>\n",
       "    </tr>\n",
       "    <tr>\n",
       "      <th>4</th>\n",
       "      <td>+</td>\n",
       "      <td>2766-3021</td>\n",
       "      <td>1</td>\n",
       "    </tr>\n",
       "  </tbody>\n",
       "</table>\n",
       "</div>"
      ],
      "text/plain": [
       "  Orientation        Pos  Units\n",
       "0           -  3462-3685      1\n",
       "1                             0\n",
       "2           -  1104-1353      1\n",
       "3           +     59-311      1\n",
       "4           +  2766-3021      1"
      ]
     },
     "execution_count": 10,
     "metadata": {},
     "output_type": "execute_result"
    }
   ],
   "source": [
    "%%time\n",
    "new_data = df.apply(lambda x: process_barcodes_lc(x['String'],x['Positions']), axis=1)\n",
    "new_data = new_data.to_list() \n",
    "\n",
    "new_data_df = pd.DataFrame(new_data, columns = ['Orientation','Pos','Units'])\n",
    "new_data_df.head()"
   ]
  },
  {
   "cell_type": "markdown",
   "id": "c7d780c9-4ef1-499a-ac89-b5f6c47a847a",
   "metadata": {},
   "source": [
    "The data from apply comes out as a series, by converting to a list we can then convert to a df using pandas standard \"pd.DataFrame\" function. \n",
    "\n",
    "The reasoning this is faster is because in expand, the apply function is trying to concat a dataframe for each row, so if you have 10'000s or 100'000s of rows, you are calling the it is more expensive then dealing with python native function many times. \n",
    "\n",
    "If we do not use the expand option, this gives us a 3x-4x speedup already. \n"
   ]
  },
  {
   "cell_type": "markdown",
   "id": "237465b1-b63d-4db5-9001-3e2656c3bf1d",
   "metadata": {},
   "source": [
    "## Alternative 2 to df.iterrows: pandas-free operation"
   ]
  },
  {
   "cell_type": "markdown",
   "id": "7ccf381b-a3db-4f38-8657-1891f174d87d",
   "metadata": {},
   "source": [
    "### Using list comprehension"
   ]
  },
  {
   "cell_type": "code",
   "execution_count": 11,
   "id": "751a4ee0-7b39-4e20-9846-e20855e394d2",
   "metadata": {
    "tags": []
   },
   "outputs": [
    {
     "name": "stdout",
     "output_type": "stream",
     "text": [
      "CPU times: user 1.44 s, sys: 17 ms, total: 1.46 s\n",
      "Wall time: 1.46 s\n"
     ]
    },
    {
     "data": {
      "text/html": [
       "<div>\n",
       "<style scoped>\n",
       "    .dataframe tbody tr th:only-of-type {\n",
       "        vertical-align: middle;\n",
       "    }\n",
       "\n",
       "    .dataframe tbody tr th {\n",
       "        vertical-align: top;\n",
       "    }\n",
       "\n",
       "    .dataframe thead th {\n",
       "        text-align: right;\n",
       "    }\n",
       "</style>\n",
       "<table border=\"1\" class=\"dataframe\">\n",
       "  <thead>\n",
       "    <tr style=\"text-align: right;\">\n",
       "      <th></th>\n",
       "      <th>Orientation</th>\n",
       "      <th>Pos</th>\n",
       "      <th>Units</th>\n",
       "    </tr>\n",
       "  </thead>\n",
       "  <tbody>\n",
       "    <tr>\n",
       "      <th>0</th>\n",
       "      <td>-</td>\n",
       "      <td>3462-3685</td>\n",
       "      <td>1</td>\n",
       "    </tr>\n",
       "    <tr>\n",
       "      <th>1</th>\n",
       "      <td></td>\n",
       "      <td></td>\n",
       "      <td>0</td>\n",
       "    </tr>\n",
       "    <tr>\n",
       "      <th>2</th>\n",
       "      <td>-</td>\n",
       "      <td>1104-1353</td>\n",
       "      <td>1</td>\n",
       "    </tr>\n",
       "    <tr>\n",
       "      <th>3</th>\n",
       "      <td>+</td>\n",
       "      <td>59-311</td>\n",
       "      <td>1</td>\n",
       "    </tr>\n",
       "    <tr>\n",
       "      <th>4</th>\n",
       "      <td>+</td>\n",
       "      <td>2766-3021</td>\n",
       "      <td>1</td>\n",
       "    </tr>\n",
       "  </tbody>\n",
       "</table>\n",
       "</div>"
      ],
      "text/plain": [
       "  Orientation        Pos  Units\n",
       "0           -  3462-3685      1\n",
       "1                             0\n",
       "2           -  1104-1353      1\n",
       "3           +     59-311      1\n",
       "4           +  2766-3021      1"
      ]
     },
     "execution_count": 11,
     "metadata": {},
     "output_type": "execute_result"
    }
   ],
   "source": [
    "%%time\n",
    "new_data = [process_barcodes_lc(motif_line, pos_line) for motif_line, pos_line in zip(df['String'],df['Positions'])] \n",
    "\n",
    "new_data_df = pd.DataFrame(new_data, columns = ['Orientation','Pos','Units'])\n",
    "new_data_df.head()"
   ]
  },
  {
   "cell_type": "markdown",
   "id": "4c8c261e-4248-4aac-85ec-22a23201f397",
   "metadata": {},
   "source": [
    "fastest time yet"
   ]
  },
  {
   "cell_type": "markdown",
   "id": "a2ac627e-590d-4e03-8d07-e46a0715eb0d",
   "metadata": {},
   "source": [
    "#### But what if a 1-liner it is getting too hard to understand?"
   ]
  },
  {
   "cell_type": "markdown",
   "id": "188be867-170f-46d5-a94c-9293e141368c",
   "metadata": {},
   "source": [
    "No problem! A regular a for loop works just as quickly. "
   ]
  },
  {
   "cell_type": "code",
   "execution_count": 12,
   "id": "6fb604fb-ed2f-4ff6-bfa9-cd00a6d61516",
   "metadata": {},
   "outputs": [
    {
     "name": "stdout",
     "output_type": "stream",
     "text": [
      "CPU times: user 1.71 s, sys: 4.06 ms, total: 1.71 s\n",
      "Wall time: 1.71 s\n"
     ]
    },
    {
     "data": {
      "text/html": [
       "<div>\n",
       "<style scoped>\n",
       "    .dataframe tbody tr th:only-of-type {\n",
       "        vertical-align: middle;\n",
       "    }\n",
       "\n",
       "    .dataframe tbody tr th {\n",
       "        vertical-align: top;\n",
       "    }\n",
       "\n",
       "    .dataframe thead th {\n",
       "        text-align: right;\n",
       "    }\n",
       "</style>\n",
       "<table border=\"1\" class=\"dataframe\">\n",
       "  <thead>\n",
       "    <tr style=\"text-align: right;\">\n",
       "      <th></th>\n",
       "      <th>Orientation</th>\n",
       "      <th>Pos</th>\n",
       "      <th>Units</th>\n",
       "    </tr>\n",
       "  </thead>\n",
       "  <tbody>\n",
       "    <tr>\n",
       "      <th>0</th>\n",
       "      <td>-</td>\n",
       "      <td>3462-3685</td>\n",
       "      <td>1</td>\n",
       "    </tr>\n",
       "    <tr>\n",
       "      <th>1</th>\n",
       "      <td></td>\n",
       "      <td></td>\n",
       "      <td>0</td>\n",
       "    </tr>\n",
       "    <tr>\n",
       "      <th>2</th>\n",
       "      <td>-</td>\n",
       "      <td>1104-1353</td>\n",
       "      <td>1</td>\n",
       "    </tr>\n",
       "    <tr>\n",
       "      <th>3</th>\n",
       "      <td>+</td>\n",
       "      <td>59-311</td>\n",
       "      <td>1</td>\n",
       "    </tr>\n",
       "    <tr>\n",
       "      <th>4</th>\n",
       "      <td>+</td>\n",
       "      <td>2766-3021</td>\n",
       "      <td>1</td>\n",
       "    </tr>\n",
       "  </tbody>\n",
       "</table>\n",
       "</div>"
      ],
      "text/plain": [
       "  Orientation        Pos  Units\n",
       "0           -  3462-3685      1\n",
       "1                             0\n",
       "2           -  1104-1353      1\n",
       "3           +     59-311      1\n",
       "4           +  2766-3021      1"
      ]
     },
     "execution_count": 12,
     "metadata": {},
     "output_type": "execute_result"
    }
   ],
   "source": [
    "%%time\n",
    "\n",
    "new_data = []\n",
    "string_data = df['String'].to_list()\n",
    "pos_data = df['Positions'].to_list()\n",
    "\n",
    "for i in range(len(df)):\n",
    "    motif_line = string_data[i]\n",
    "    pos_line  = pos_data[i]\n",
    "    new_data.append(process_barcodes_lc(motif_line, pos_line))\n",
    "    \n",
    "new_data_df = pd.DataFrame(new_data, columns = ['Orientation','Pos','Units'])\n",
    "new_data_df.head()"
   ]
  },
  {
   "cell_type": "markdown",
   "id": "b3756ad2-73d2-43a0-b7ef-7b5d4bc47da3",
   "metadata": {},
   "source": [
    "The speedup in python comes from working with lists indead of with pandas objects.  \n",
    "The 1-liners can help simplify the code you \n",
    "need to remember, but also can affect understanding of the code. "
   ]
  },
  {
   "cell_type": "markdown",
   "id": "c14e7bbe-6cc7-495a-8f83-f2bc65b7ac56",
   "metadata": {},
   "source": [
    "## Easy mistake to make!"
   ]
  },
  {
   "cell_type": "code",
   "execution_count": 13,
   "id": "32a45ea7-88b4-4ad6-95f8-01e131b40d7c",
   "metadata": {
    "tags": []
   },
   "outputs": [
    {
     "name": "stdout",
     "output_type": "stream",
     "text": [
      "CPU times: user 8.99 s, sys: 12 ms, total: 9 s\n",
      "Wall time: 9.02 s\n"
     ]
    },
    {
     "data": {
      "text/html": [
       "<div>\n",
       "<style scoped>\n",
       "    .dataframe tbody tr th:only-of-type {\n",
       "        vertical-align: middle;\n",
       "    }\n",
       "\n",
       "    .dataframe tbody tr th {\n",
       "        vertical-align: top;\n",
       "    }\n",
       "\n",
       "    .dataframe thead th {\n",
       "        text-align: right;\n",
       "    }\n",
       "</style>\n",
       "<table border=\"1\" class=\"dataframe\">\n",
       "  <thead>\n",
       "    <tr style=\"text-align: right;\">\n",
       "      <th></th>\n",
       "      <th>Orientation</th>\n",
       "      <th>Pos</th>\n",
       "      <th>Units</th>\n",
       "    </tr>\n",
       "  </thead>\n",
       "  <tbody>\n",
       "    <tr>\n",
       "      <th>0</th>\n",
       "      <td>-</td>\n",
       "      <td>3462-3685</td>\n",
       "      <td>1</td>\n",
       "    </tr>\n",
       "    <tr>\n",
       "      <th>1</th>\n",
       "      <td></td>\n",
       "      <td></td>\n",
       "      <td>0</td>\n",
       "    </tr>\n",
       "    <tr>\n",
       "      <th>2</th>\n",
       "      <td>-</td>\n",
       "      <td>1104-1353</td>\n",
       "      <td>1</td>\n",
       "    </tr>\n",
       "    <tr>\n",
       "      <th>3</th>\n",
       "      <td>+</td>\n",
       "      <td>59-311</td>\n",
       "      <td>1</td>\n",
       "    </tr>\n",
       "    <tr>\n",
       "      <th>4</th>\n",
       "      <td>+</td>\n",
       "      <td>2766-3021</td>\n",
       "      <td>1</td>\n",
       "    </tr>\n",
       "  </tbody>\n",
       "</table>\n",
       "</div>"
      ],
      "text/plain": [
       "  Orientation        Pos  Units\n",
       "0           -  3462-3685      1\n",
       "1                             0\n",
       "2           -  1104-1353      1\n",
       "3           +     59-311      1\n",
       "4           +  2766-3021      1"
      ]
     },
     "execution_count": 13,
     "metadata": {},
     "output_type": "execute_result"
    }
   ],
   "source": [
    "%%time\n",
    "\n",
    "new_data = []\n",
    "string_data = df['String'] # <------- MISSING CONVERSION TO LIST \n",
    "pos_data = df['Positions'] # <------- MISSING CONVERSION TO LIST\n",
    "for i in range(len(df)):\n",
    "    motif_line = string_data[i]\n",
    "    pos_line  = pos_data[i]\n",
    "    new_data.append(process_barcodes_lc(motif_line, pos_line))\n",
    "    \n",
    "new_data_df = pd.DataFrame(new_data, columns = ['Orientation','Pos','Units'])\n",
    "new_data_df.head()"
   ]
  },
  {
   "cell_type": "markdown",
   "id": "e55c55e3-70da-4c42-a8c5-8cc40a214bca",
   "metadata": {},
   "source": [
    "Here we can see the difference between the first for loop, 30 seconds, and the fastest, about 1 second, is around 30-fold, however these differences usually scale exponentially with dataframe size and can be the difference between minutes and days. "
   ]
  },
  {
   "cell_type": "markdown",
   "id": "d356597b-9dc9-4720-8aee-1f71a55cf147",
   "metadata": {},
   "source": [
    "Let me know if you have any questions!"
   ]
  }
 ],
 "metadata": {
  "kernelspec": {
   "display_name": "Python [conda env:python37]",
   "language": "python",
   "name": "conda-env-python37-py"
  },
  "language_info": {
   "codemirror_mode": {
    "name": "ipython",
    "version": 3
   },
   "file_extension": ".py",
   "mimetype": "text/x-python",
   "name": "python",
   "nbconvert_exporter": "python",
   "pygments_lexer": "ipython3",
   "version": "3.7.6"
  },
  "toc-autonumbering": false
 },
 "nbformat": 4,
 "nbformat_minor": 5
}
